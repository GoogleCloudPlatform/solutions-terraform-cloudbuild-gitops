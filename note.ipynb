{
 "cells": [
  {
   "cell_type": "markdown",
   "metadata": {},
   "source": [
    "**Managing infrastructure as code with Terraform, Cloud Build, and GitOps**\n",
    "- reference for documetns: https://cloud.google.com/architecture/managing-infrastructure-as-code\n",
    "- reference for git: https://github.com/toanbui1991/solutions-terraform-cloudbuild-gitops"
   ]
  },
  {
   "cell_type": "markdown",
   "metadata": {},
   "source": [
    "**Set up directory for cicd project**\n",
    "- environment: define infrustructure for each environment (dev and prod)\n",
    "- modules: define infrustructure for component of each environment (firewall, vpc, http_server)\n",
    "- cloudbuild.yaml: definition of build steps"
   ]
  },
  {
   "cell_type": "markdown",
   "metadata": {},
   "source": [
    "**Config terraform to storer stage in  cloud storage bucket**\n",
    "- specify backend(where to store state) at backend.tf"
   ]
  },
  {
   "cell_type": "code",
   "execution_count": null,
   "metadata": {},
   "outputs": [],
   "source": [
    "#make bucket to store terraform state\n",
    "PROJECT_ID=$(gcloud config get-value project)\n",
    "gsutil mb gs://${PROJECT_ID}-tfstate\n",
    "#enable versionning, remember to set life cycle to delete unecessary version\n",
    "gsutil versioning set on gs://${PROJECT_ID}-tfstate\n",
    "#set up \n",
    "\n",
    "#reference about sed command:\n",
    "#take a look at 3.3 The s Command to know about s and g with flag:\n",
    "    #g flags means replace all matches not just firts\n",
    "    #take a look at s command syntax: s/regexp/replacement/flags\n",
    "cd ~/solutions-terraform-cloudbuild-gitops\n",
    "sed -i s/PROJECT_ID/$PROJECT_ID/g environments/*/terraform.tfvars\n",
    "sed -i s/PROJECT_ID/$PROJECT_ID/g environments/*/backend.tf"
   ]
  }
 ],
 "metadata": {
  "kernelspec": {
   "display_name": "Python 3.10.6 64-bit",
   "language": "python",
   "name": "python3"
  },
  "language_info": {
   "name": "python",
   "version": "3.10.6"
  },
  "orig_nbformat": 4,
  "vscode": {
   "interpreter": {
    "hash": "916dbcbb3f70747c44a77c7bcd40155683ae19c65e1c03b4aa3499c5328201f1"
   }
  }
 },
 "nbformat": 4,
 "nbformat_minor": 2
}
